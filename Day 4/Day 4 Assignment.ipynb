{
 "cells": [
  {
   "cell_type": "code",
   "execution_count": 6,
   "metadata": {},
   "outputs": [
    {
     "name": "stdout",
     "output_type": "stream",
     "text": [
      "(16+15j)\n",
      "(4+9j)\n",
      "(2.1333333333333333+0.9333333333333333j)\n"
     ]
    }
   ],
   "source": [
    "1. # Addition, Subtraction, Multiplication, Division, Floor Division and Modulo Operations on Complex Numbers\n",
    "\n",
    "#Addition of complex numbers\n",
    "\n",
    "a = 10 + 12j\n",
    "b = 6 + 3j\n",
    "c = a+b\n",
    "d = a-b\n",
    "e = a/b\n",
    "\n",
    "#Printing Addition Result\n",
    "print(c)\n",
    "print(d)\n",
    "print(e)\n",
    "\n",
    "# Floor division and Modulo Operations cannot be performed on Complex Numbers"
   ]
  },
  {
   "cell_type": "markdown",
   "metadata": {},
   "source": [
    "2.#Research on range() functions and its parameters. Create a markdown cell and write in your own\n",
    "words (no copy-paste from google please) what you understand about it. Implement a small\n",
    "program of your choice on the same.\n",
    "\n",
    "\n",
    "*The range() function returns a sequence of numbers, starting from 0 by default, and increments by 1 (by default), and stops before a specified number. The parameters that are used for the range function are: *\n",
    "\n",
    "**Start** : *The Range of the numbers start from this particular number*\n",
    "**Stop** : *The Range of the numbers stop at this particlar number*\n",
    "**Step** : *Between the Start and the Stop number the Step helps us decide the diffrence between each of numbers in the Range*\n",
    "\n"
   ]
  },
  {
   "cell_type": "code",
   "execution_count": 17,
   "metadata": {},
   "outputs": [
    {
     "name": "stdout",
     "output_type": "stream",
     "text": [
      "4\n",
      "6\n",
      "8\n",
      "10\n",
      "12\n",
      "14\n",
      "16\n",
      "18\n",
      "20\n",
      "22\n",
      "24\n",
      "26\n",
      "28\n",
      "30\n",
      "32\n",
      "34\n",
      "36\n",
      "38\n"
     ]
    }
   ],
   "source": [
    "X = range(4,40,2)\n",
    "for n in X:\n",
    "    print(n)"
   ]
  },
  {
   "cell_type": "code",
   "execution_count": 10,
   "metadata": {},
   "outputs": [
    {
     "name": "stdout",
     "output_type": "stream",
     "text": [
      "The Result of Multiplication between the two numbers is:  3000\n"
     ]
    }
   ],
   "source": [
    "3. '''Consider two numbers. Perform their subtraction and if the result of subtraction is greater than\n",
    " 25, print their multiplication result else print their division result.''' \n",
    "\n",
    "a = 100\n",
    "b = 30\n",
    "c = a-b\n",
    "if c>25:\n",
    "    print(\"The Result of Multiplication between the two numbers is: \",a*b)\n",
    "else:\n",
    "    print(\"The Result of Division between the two numbers is: \",a/b)"
   ]
  },
  {
   "cell_type": "code",
   "execution_count": 11,
   "metadata": {},
   "outputs": [
    {
     "name": "stdout",
     "output_type": "stream",
     "text": [
      "The Result of the Number  10  is:  98\n",
      "The Result of the Number  12  is:  142\n",
      "The Result of the Number  14  is:  194\n",
      "The Result of the Number  16  is:  254\n",
      "The Result of the Number  18  is:  322\n",
      "The Result of the Number  20  is:  398\n",
      "The Result of the Number  22  is:  482\n",
      "The Result of the Number  24  is:  574\n"
     ]
    }
   ],
   "source": [
    "4. '''Consider a list of 10 elements of integer values. If the number in the list is divisible by 2, print the\n",
    "result as \"square of that number minus 2\".'''\n",
    "\n",
    "l = [10,12,14,15,16,18,19,20,22,24]\n",
    "for i in l:\n",
    "    if i % 2 == 0:\n",
    "        print(\"The Result of the Number \",i, \" is: \", i**2-2)"
   ]
  },
  {
   "cell_type": "code",
   "execution_count": 16,
   "metadata": {},
   "outputs": [
    {
     "name": "stdout",
     "output_type": "stream",
     "text": [
      "The remainder of element 15 is greater than 7 when divided by 2\n",
      "The remainder of element 16 is greater than 7 when divided by 2\n",
      "The remainder of element 18 is greater than 7 when divided by 2\n",
      "The remainder of element 19 is greater than 7 when divided by 2\n",
      "The remainder of element 20 is greater than 7 when divided by 2\n",
      "The remainder of element 22 is greater than 7 when divided by 2\n",
      "The remainder of element 24 is greater than 7 when divided by 2\n"
     ]
    }
   ],
   "source": [
    "5. '''Consider a list of 10 elements. Print all the elements in the list which are greater than 7 when that\n",
    "number is divided 2.'''\n",
    "\n",
    "l = [10,12,14,15,16,18,19,20,22,24]\n",
    "for i in l:\n",
    "    d = i / 2\n",
    "    if d>7:\n",
    "        print(\"The remainder of element\",i,\"is greater than 7 when divided by 2\")"
   ]
  },
  {
   "cell_type": "code",
   "execution_count": null,
   "metadata": {},
   "outputs": [],
   "source": []
  }
 ],
 "metadata": {
  "kernelspec": {
   "display_name": "Python 3",
   "language": "python",
   "name": "python3"
  },
  "language_info": {
   "codemirror_mode": {
    "name": "ipython",
    "version": 3
   },
   "file_extension": ".py",
   "mimetype": "text/x-python",
   "name": "python",
   "nbconvert_exporter": "python",
   "pygments_lexer": "ipython3",
   "version": "3.7.6"
  }
 },
 "nbformat": 4,
 "nbformat_minor": 4
}
