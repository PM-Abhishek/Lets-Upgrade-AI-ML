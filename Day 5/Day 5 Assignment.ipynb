{
 "cells": [
  {
   "cell_type": "code",
   "execution_count": 2,
   "metadata": {},
   "outputs": [
    {
     "name": "stdout",
     "output_type": "stream",
     "text": [
      "1 is a prime\n",
      "2 is a prime\n",
      "3 is a prime\n",
      "5 is a prime\n",
      "7 is a prime\n",
      "11 is a prime\n",
      "13 is a prime\n",
      "17 is a prime\n",
      "19 is a prime\n",
      "23 is a prime\n",
      "29 is a prime\n",
      "31 is a prime\n",
      "37 is a prime\n",
      "41 is a prime\n",
      "43 is a prime\n",
      "47 is a prime\n",
      "53 is a prime\n",
      "59 is a prime\n",
      "61 is a prime\n",
      "67 is a prime\n"
     ]
    }
   ],
   "source": [
    "#Write a Python program to find the first 20 non-even prime natural numbers.\n",
    "\n",
    "n=1\n",
    "c=0\n",
    "while n>0:\n",
    "   for i in range(2,n):\n",
    "      if n%i == 0:\n",
    "         break\n",
    "   else:\n",
    "      print(n,'is a prime')\n",
    "      c=c+1\n",
    "   n=n+1\n",
    "   if c==20:\n",
    "      break"
   ]
  },
  {
   "cell_type": "code",
   "execution_count": 27,
   "metadata": {},
   "outputs": [
    {
     "name": "stdout",
     "output_type": "stream",
     "text": [
      "enter the string  abhishek\n",
      "enter the char place you want to count  4\n",
      "enter the char or word to find  h\n",
      "enter the char or word to find index of  a\n",
      "the capatized the string Abhishek\n",
      "string in lower case abhishek\n",
      "string in upper case ABHISHEK\n",
      "string is its swapped case ABHISHEK\n",
      "capitalizing each word in the string Abhishek\n",
      "index of the alphabet in the string 0\n",
      "string is in lower case True\n",
      "string is in upper case False\n",
      "string is decimal False\n",
      "string is digit False\n",
      "string is numeric False\n",
      "string is alpabet True\n",
      "string is alphanumeric True\n",
      "The string in ceter  ******abhishek******\n",
      " desired word or letter in the string 2\n",
      "index of desired word or letter in the string 0\n"
     ]
    }
   ],
   "source": [
    "#Write a Python program to implement 15 functions of string.\n",
    "string=input(\"enter the string  \")\n",
    "var=input(\"enter the char place you want to count  \")\n",
    "f=input(\"enter the char or word to find  \")\n",
    "i=input(\"enter the char or word to find index of  \")\n",
    "print(\"the capatized the string\",string.capitalize())\n",
    "print(\"string in lower case\",string.lower())\n",
    "print(\"string in upper case\",string.upper())\n",
    "print(\"string is its swapped case\", string.swapcase())\n",
    "print(\"capitalizing each word in the string\" ,string.title())\n",
    "print(\"index of the alphabet in the string\",string.count(var))\n",
    "print(\"string is in lower case\",string.islower())\n",
    "print(\"string is in upper case\",string.isupper())\n",
    "print(\"string is decimal\",string.isdecimal())\n",
    "print(\"string is digit\",string.isdigit())\n",
    "print(\"string is numeric\",string.isnumeric())\n",
    "print(\"string is alpabet\",string.isalpha())\n",
    "print(\"string is alphanumeric\",string.isalnum())\n",
    "print(\"The string in ceter \",string.center(20,'*'))\n",
    "print(\" desired word or letter in the string\",string.find(f))\n",
    "print(\"index of desired word or letter in the string\",string.index(i))"
   ]
  },
  {
   "cell_type": "code",
   "execution_count": 26,
   "metadata": {},
   "outputs": [
    {
     "name": "stdout",
     "output_type": "stream",
     "text": [
      "Enter First String: madam\n",
      "Enter Second String: mdaam\n",
      "String 1 is palindrome\n",
      "String 1 and 2 are Anagrams\n"
     ]
    }
   ],
   "source": [
    "#Write a Python program to check if the given string is a Palindrome or Anagram or None of them. Display the message accordingly to the user.\n",
    "def isAnagram(str1,str2):\n",
    "    return sorted(str1) == sorted(str2)\n",
    "def str1Palindrome(str1):\n",
    "    return str1 == str1[::-1]\n",
    "def str2Palindrome(str2):\n",
    "    return str2 == str2[::-1]\n",
    "    \n",
    "s1 = input(\"Enter First String: \")\n",
    "s2 = input(\"Enter Second String: \")\n",
    "\n",
    "d = str1Palindrome(s1)\n",
    "f = str1Palindrome(s2)\n",
    "m = isAnagram(s1,s2)\n",
    "if(d):\n",
    "    print(\"String 1 is palindrome\")\n",
    "if(f):\n",
    "    print(\"String 2 is palindrome\")\n",
    "if(m):\n",
    "    print(\"String 1 and 2 are Anagrams\")\n",
    "else:\n",
    "    print(\"None of them\")\n",
    "\n",
    "    \n",
    "\n"
   ]
  },
  {
   "cell_type": "code",
   "execution_count": 21,
   "metadata": {},
   "outputs": [
    {
     "name": "stdout",
     "output_type": "stream",
     "text": [
      "Enter the string: Dr. Darshan Ingle @AI-ML Trainer\n",
      "Resultant String:  drdarshaningleaimltrainer\n"
     ]
    }
   ],
   "source": [
    "'''Write a Python's user defined function that removes all the additional characters from the string\n",
    "and converts it finally to lower case using built-in lower(). eg: If the string is \"Dr. Darshan Ingle\n",
    "@AI-ML Trainer\", then the output be \"drdarshaningleaimltrainer\"'''\n",
    "\n",
    "bad_chars = [';', ':', '!', \"*\",\"@\",\"-\",\".\",\" \"]\n",
    "string = input(\"Enter the string: \")\n",
    "for i in bad_chars : \n",
    "    string = string.replace(i, '') \n",
    "\n",
    "lstring = string.lower()\n",
    "print(\"Resultant String: \",str(lstring))"
   ]
  }
 ],
 "metadata": {
  "kernelspec": {
   "display_name": "Python 3",
   "language": "python",
   "name": "python3"
  },
  "language_info": {
   "codemirror_mode": {
    "name": "ipython",
    "version": 3
   },
   "file_extension": ".py",
   "mimetype": "text/x-python",
   "name": "python",
   "nbconvert_exporter": "python",
   "pygments_lexer": "ipython3",
   "version": "3.7.6"
  }
 },
 "nbformat": 4,
 "nbformat_minor": 4
}
