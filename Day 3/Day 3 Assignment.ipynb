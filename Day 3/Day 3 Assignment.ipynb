{
 "cells": [
  {
   "cell_type": "code",
   "execution_count": 1,
   "metadata": {},
   "outputs": [
    {
     "name": "stdout",
     "output_type": "stream",
     "text": [
      "(12+6j)\n"
     ]
    }
   ],
   "source": [
    "#Program to subtract two complex numbers and show the diffrence\n",
    "#declaration\n",
    "a = 16 + 8j\n",
    "b = 4 + 2j\n",
    "#Store the diffrence in another variable\n",
    "c = a-b\n",
    "#print the diffrence\n",
    "print(c)"
   ]
  },
  {
   "cell_type": "code",
   "execution_count": 3,
   "metadata": {},
   "outputs": [
    {
     "name": "stdout",
     "output_type": "stream",
     "text": [
      "2.114742526881128\n"
     ]
    }
   ],
   "source": [
    "#Program to find the fourth root of a number\n",
    "#declaration\n",
    "Num = 20\n",
    "#fourth root of the number\n",
    "root = Num ** (1/4)\n",
    "#printing the root\n",
    "print(root)"
   ]
  },
  {
   "cell_type": "code",
   "execution_count": 4,
   "metadata": {},
   "outputs": [
    {
     "name": "stdout",
     "output_type": "stream",
     "text": [
      "the value in a is:  50\n",
      "the value in a is:  30\n"
     ]
    }
   ],
   "source": [
    "#program to swap two numbers using temp variable\n",
    "a = 30\n",
    "b = 50\n",
    "#store in temproary variable\n",
    "temp = a\n",
    "a = b\n",
    "b = temp\n",
    "#printing out swapped values\n",
    "print(\"the value in a is: \",a)\n",
    "print(\"the value in a is: \",b)"
   ]
  },
  {
   "cell_type": "code",
   "execution_count": 5,
   "metadata": {},
   "outputs": [
    {
     "name": "stdout",
     "output_type": "stream",
     "text": [
      "The values of a is:  50\n",
      "the value in b is:  30\n"
     ]
    }
   ],
   "source": [
    "#Program to swap two numbers without using temp variable\n",
    "a = 30\n",
    "b = 50\n",
    "#to swap without using temp\n",
    "a = a+b\n",
    "b = a-b\n",
    "a = a-b\n",
    "#printing swapped variables\n",
    "print(\"The values of a is: \",a)\n",
    "print(\"the value in b is: \",b)"
   ]
  },
  {
   "cell_type": "code",
   "execution_count": 6,
   "metadata": {},
   "outputs": [
    {
     "name": "stdout",
     "output_type": "stream",
     "text": [
      "The type of a is:  <class 'int'>\n",
      "The type of b is:  <class 'float'>\n",
      "The type of c is:  <class 'str'>\n",
      "The type of d is:  <class 'complex'>\n",
      "The type of e is:  <class 'tuple'>\n"
     ]
    }
   ],
   "source": [
    "#Program to demonstrate available datatypes in Python\n",
    "a = 2\n",
    "b = 3.023\n",
    "c = \"abhishek\"\n",
    "d = 4+3j\n",
    "e = 100,00,00\n",
    "#printing the type of each\n",
    "print(\"The type of a is: \",type(a))\n",
    "print(\"The type of b is: \",type(b))\n",
    "print(\"The type of c is: \",type(c))\n",
    "print(\"The type of d is: \",type(d))\n",
    "print(\"The type of e is: \",type(e))"
   ]
  },
  {
   "cell_type": "markdown",
   "metadata": {},
   "source": [
    "#METHOD FOR CREATING A GITHUB PROFILE AND UPLOADING ASSIGNMENT LINK\n",
    "\n",
    "**Creating a Github Repositry**\n",
    "1. We create an account on github and open a new repositry\n",
    "2. The name of the repositry should be named as LetsUpgrade AI-ML and description should be named as Assignments\n",
    "3. The repositry should be left public and be created\n",
    "4. All the assignments should be dropped down in the created repositry within the respective day folder\n",
    "\n",
    "**Uploading the Assignment Link**\n",
    "1. Fill the form provided by letsupgrade with the credentials given while registration\n",
    "2. upload the github link in the form\n",
    "3. submit the form.\n",
    "\n",
    "*Hurrayy! It's Done*"
   ]
  },
  {
   "cell_type": "code",
   "execution_count": null,
   "metadata": {},
   "outputs": [],
   "source": []
  }
 ],
 "metadata": {
  "kernelspec": {
   "display_name": "Python 3",
   "language": "python",
   "name": "python3"
  },
  "language_info": {
   "codemirror_mode": {
    "name": "ipython",
    "version": 3
   },
   "file_extension": ".py",
   "mimetype": "text/x-python",
   "name": "python",
   "nbconvert_exporter": "python",
   "pygments_lexer": "ipython3",
   "version": "3.7.6"
  }
 },
 "nbformat": 4,
 "nbformat_minor": 4
}
