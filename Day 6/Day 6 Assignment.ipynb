{
 "cells": [
  {
   "cell_type": "code",
   "execution_count": 5,
   "metadata": {},
   "outputs": [
    {
     "name": "stdout",
     "output_type": "stream",
     "text": [
      "Enter your email id here: abhi@microsoft.com\n",
      "The company the person works for is:  microsoft\n"
     ]
    }
   ],
   "source": [
    "'''Assuming that we have some email addresses in the \"username@companyname.com\" format, please write program\n",
    "to print the company name of a given email address. Both user names and company names are composed of letters\n",
    "only.\n",
    "'''\n",
    "email = input(\"Enter your email id here: \")\n",
    "domain = email.split('@')[1]\n",
    "company = domain.split('.')[0]\n",
    "print(\"The company the person works for is: \",company)"
   ]
  },
  {
   "cell_type": "code",
   "execution_count": 17,
   "metadata": {},
   "outputs": [
    {
     "name": "stdout",
     "output_type": "stream",
     "text": [
      "cat,bag,kitten\n",
      "bag,cat,kitten"
     ]
    }
   ],
   "source": [
    "'''Write a program that accepts a comma-separated sequence of words as input and prints the words in a comma separated sequence after sorting them alphabetically'''\n",
    "\n",
    "inp = input().split(',')\n",
    "l = list(inp)\n",
    "l1 = len(l)\n",
    "\n",
    "y = sorted(l)\n",
    "l = y\n",
    "\n",
    "for i in range(l1):\n",
    "    if i==l1-1:\n",
    "        print(l[i],end = \"\")\n",
    "    else:\n",
    "        print(l[i],end = \",\")"
   ]
  },
  {
   "cell_type": "code",
   "execution_count": 26,
   "metadata": {},
   "outputs": [
    {
     "name": "stdout",
     "output_type": "stream",
     "text": [
      "{'Eat', 'Sleep', 'Code'}\n",
      "Eat\n",
      "Sleep\n",
      "Code\n",
      "True\n",
      "{'Eat', 'Sleep', 'Code', 'repeat'}\n",
      "{'c', 'Code', 'mangodb', 'Eat', 'repeat', 'dbms', 'python', 'Sleep', 'java', 'cpp', 'noej4'}\n",
      "11\n",
      "{'c', 'Code', 'mangodb', 'Eat', 'repeat', 'dbms', 'python', 'Sleep', 'java', 'noej4'}\n",
      "{'Code', 'mangodb', 'Eat', 'repeat', 'dbms', 'python', 'Sleep', 'java', 'noej4'}\n",
      "Code\n",
      "{'mangodb', 'Eat', 'repeat', 'dbms', 'python', 'Sleep', 'java', 'noej4'}\n",
      "set()\n",
      "{33, 'bcd', 22, 'cde', 11, 'abc'}\n",
      "{33, 'bcd', 22, 'cde', 11, 'abc'}\n",
      "{'banana', 'cherry', 'apple'}\n"
     ]
    }
   ],
   "source": [
    "'''Create your own Jupyter Notebook for Sets'''\n",
    "# In Sets a list of objects are written inside a set of curly brackets\n",
    "myset = {\"Eat\", \"Code\", \"Sleep\"}\n",
    "print(myset)\n",
    "\n",
    "# Since sets are unordered the elements cannot be accessed as in a list by giving the index of the element, the for loop has to be used to print all the element in the set\n",
    "for x in myset:\n",
    "  print(x)\n",
    "\n",
    "# to check if an element is present in a set\n",
    "print(\"Code\" in myset)\n",
    "\n",
    "#to add the new element to the set setname.add() is  used \n",
    "myset.add(\"repeat\")\n",
    "print(myset)\n",
    "\n",
    "#to update the exsisting set setname.update() is used \n",
    "myset.update([\"mangodb\", \"cpp\", \"java\" ,\"c\",\"dbms\",\"noej4\",\"python\"])\n",
    "print(myset)\n",
    "\n",
    "#to find the length of the set len(setname) is used \n",
    "print(len(myset))\n",
    "\n",
    "#to remove any element from the set setname.remove() is used\n",
    "myset.remove(\"cpp\")\n",
    "print(myset)\n",
    "\n",
    "#to discard any element from the set setname.discard() is used\n",
    "myset.discard(\"c\")\n",
    "print(myset)\n",
    "\n",
    "#to pop the last element from thne set setname.pop() is used\n",
    "x = myset.pop()\n",
    "print(x)\n",
    "print(myset)\n",
    "\n",
    "#to clear the set setname.clear() is used\n",
    "set2 = {\"data struct\", \"os\", \"Mc\"}\n",
    "set2.clear()\n",
    "print(set2)\n",
    "\n",
    "#to join two sets setname1.union(setname2) is used\n",
    "set1 = {\"abc\", \"bcd\" , \"cde\"}\n",
    "set2 = {11, 22, 33}\n",
    "\n",
    "set3 = set1.union(set2)\n",
    "print(set3)\n",
    "\n",
    "\n",
    "#to update the two set setname1.update(setname2) \n",
    "set1.update(set2)\n",
    "print(set1)\n",
    "\n",
    "#Using the set() constructor to make a set:\n",
    "set1 = set((\"apple\", \"banana\", \"cherry\"))\n",
    "print(set1)"
   ]
  },
  {
   "cell_type": "code",
   "execution_count": 12,
   "metadata": {},
   "outputs": [
    {
     "name": "stdout",
     "output_type": "stream",
     "text": [
      "Enter number of elements : 5\n",
      "1 \n",
      "2\n",
      "4\n",
      "5\n",
      "6\n",
      "3.0\n"
     ]
    }
   ],
   "source": [
    "# Given a list of n-1 numbers ranging from 1 to n, your task is to find the missing number. There are no duplicates.\n",
    "def getMissingNo(lst): \n",
    "    n = len(lst) \n",
    "    total = (n + 1)*(n + 2)/2\n",
    "    sum_of_lst = sum(lst) \n",
    "    return total - sum_of_lst \n",
    "  \n",
    "lst = [] \n",
    "m = int(input(\"Enter number of elements : \"))  \n",
    "for i in range(0, m): \n",
    "    ele = int(input()) \n",
    "    lst.append(ele)\n",
    "miss = getMissingNo(lst) \n",
    "print(miss) "
   ]
  },
  {
   "cell_type": "code",
   "execution_count": 22,
   "metadata": {},
   "outputs": [
    {
     "name": "stdout",
     "output_type": "stream",
     "text": [
      "Enter number of elements : 5\n",
      "1\n",
      "2\n",
      "2\n",
      "3\n",
      "4\n",
      "The reversed list is: [4, 3, 2, 1]\n"
     ]
    }
   ],
   "source": [
    "# With a given list L, write a program to print this list L after removing all duplicate values with original order reserved.\n",
    "\n",
    "mylist = []\n",
    "m = int(input(\"Enter number of elements : \"))  \n",
    "for i in range(0, m): \n",
    "    ele = int(input()) \n",
    "    mylist.append(ele)\n",
    "    \n",
    "mylist = list( dict.fromkeys(mylist) )\n",
    "revlist = mylist[::-1]\n",
    "print(\"The reversed list is:\", revlist)"
   ]
  },
  {
   "cell_type": "code",
   "execution_count": null,
   "metadata": {},
   "outputs": [],
   "source": []
  }
 ],
 "metadata": {
  "kernelspec": {
   "display_name": "Python 3",
   "language": "python",
   "name": "python3"
  },
  "language_info": {
   "codemirror_mode": {
    "name": "ipython",
    "version": 3
   },
   "file_extension": ".py",
   "mimetype": "text/x-python",
   "name": "python",
   "nbconvert_exporter": "python",
   "pygments_lexer": "ipython3",
   "version": "3.7.6"
  }
 },
 "nbformat": 4,
 "nbformat_minor": 4
}
